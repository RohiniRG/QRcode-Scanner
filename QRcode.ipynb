{
 "cells": [
  {
   "cell_type": "code",
   "execution_count": 18,
   "metadata": {
    "colab": {
     "base_uri": "https://localhost:8080/"
    },
    "id": "CVsqA_zlNeux",
    "outputId": "04726185-bd4f-486d-ba9a-a59c520e1f7a"
   },
   "outputs": [
    {
     "name": "stdout",
     "output_type": "stream",
     "text": [
      "Reading package lists... Done\n",
      "Building dependency tree       \n",
      "Reading state information... Done\n",
      "libzbar0 is already the newest version (0.10+doc-10.1build2).\n",
      "0 upgraded, 0 newly installed, 0 to remove and 29 not upgraded.\n",
      "Requirement already satisfied: pyzbar in /usr/local/lib/python3.7/dist-packages (0.1.8)\n"
     ]
    }
   ],
   "source": [
    "!apt install libzbar0\n",
    "!pip install pyzbar\n",
    "import cv2\n",
    "import numpy as np\n",
    "from pyzbar.pyzbar import decode\n",
    "from google.colab.patches import cv2_imshow"
   ]
  },
  {
   "cell_type": "code",
   "execution_count": 43,
   "metadata": {
    "id": "H4JxZa3rN88E"
   },
   "outputs": [],
   "source": [
    "code = cv2.imread('barcode.jpg')"
   ]
  },
  {
   "cell_type": "code",
   "execution_count": null,
   "metadata": {
    "id": "WpnbaiqBO3b-"
   },
   "outputs": [],
   "source": [
    "# cv2.imshow(code)"
   ]
  },
  {
   "cell_type": "code",
   "execution_count": 44,
   "metadata": {
    "colab": {
     "base_uri": "https://localhost:8080/",
     "height": 117
    },
    "id": "_i-_LINqO5z2",
    "outputId": "6572406f-d7d2-4f32-88d1-2ed766353357"
   },
   "outputs": [
    {
     "data": {
      "image/png": "[encoded data removed]",
      "text/plain": [
       "<PIL.Image.Image image mode=RGB size=378x100 at 0x7FA528B97DD0>"
      ]
     },
     "metadata": {
      "tags": []
     },
     "output_type": "display_data"
    }
   ],
   "source": [
    "cv2_imshow(code)"
   ]
  },
  {
   "cell_type": "code",
   "execution_count": 45,
   "metadata": {
    "id": "qlxiM4XfO8YB"
   },
   "outputs": [],
   "source": [
    "list = decode(code)"
   ]
  },
  {
   "cell_type": "code",
   "execution_count": 46,
   "metadata": {
    "colab": {
     "base_uri": "https://localhost:8080/"
    },
    "id": "i4D3Qdl8Pks6",
    "outputId": "cffbbc55-1bce-4115-bf08-6099e1d3fc54"
   },
   "outputs": [
    {
     "data": {
      "text/plain": [
       "[Decoded(data=b'Akhil Bhalerao', type='CODE128', rect=Rect(left=4, top=0, width=368, height=75), polygon=[Point(x=4, y=1), Point(x=4, y=75), Point(x=372, y=74), Point(x=372, y=0)])]"
      ]
     },
     "execution_count": 46,
     "metadata": {
      "tags": []
     },
     "output_type": "execute_result"
    }
   ],
   "source": [
    "list"
   ]
  },
  {
   "cell_type": "code",
   "execution_count": 47,
   "metadata": {
    "id": "uPg6eht5Qbc0"
   },
   "outputs": [],
   "source": [
    "pts = np.array(list[0].polygon)\n",
    "pts = pts.reshape(-1, 1, 2)"
   ]
  },
  {
   "cell_type": "code",
   "execution_count": 48,
   "metadata": {
    "colab": {
     "base_uri": "https://localhost:8080/"
    },
    "id": "ZRHkr78SytKi",
    "outputId": "3cce6453-bea8-4de7-c15c-cd6bb7737d56"
   },
   "outputs": [
    {
     "data": {
      "text/plain": [
       "b'Akhil Bhalerao'"
      ]
     },
     "execution_count": 48,
     "metadata": {
      "tags": []
     },
     "output_type": "execute_result"
    }
   ],
   "source": [
    "list[0].data"
   ]
  },
  {
   "cell_type": "code",
   "execution_count": 49,
   "metadata": {
    "colab": {
     "base_uri": "https://localhost:8080/",
     "height": 117
    },
    "id": "I2fmQR-SQ0bf",
    "outputId": "b32568a9-648e-48ee-84e0-16f514a4a968"
   },
   "outputs": [
    {
     "data": {
      "image/png": "[encoded data removed]",
      "text/plain": [
       "<PIL.Image.Image image mode=RGB size=378x100 at 0x7FA528BA0390>"
      ]
     },
     "metadata": {
      "tags": []
     },
     "output_type": "display_data"
    }
   ],
   "source": [
    "code = cv2.polylines(code, [pts], True, (0, 255, 255), 3)\n",
    "cv2.putText(code, str(list[0].data), (30,80), cv2.FONT_HERSHEY_SIMPLEX, 0.5, (0,255,0), 1, cv2.LINE_AA )\n",
    "cv2_imshow(code)"
   ]
  },
  {
   "cell_type": "code",
   "execution_count": null,
   "metadata": {
    "id": "Zy9quXBo_2UM"
   },
   "outputs": [],
   "source": []
  }
 ],
 "metadata": {
  "colab": {
   "name": "QRcode.ipynb",
   "provenance": []
  },
  "kernelspec": {
   "display_name": "Python 3",
   "language": "python",
   "name": "python3"
  },
  "language_info": {
   "codemirror_mode": {
    "name": "ipython",
    "version": 3
   },
   "file_extension": ".py",
   "mimetype": "text/x-python",
   "name": "python",
   "nbconvert_exporter": "python",
   "pygments_lexer": "ipython3",
   "version": "3.6.6"
  }
 },
 "nbformat": 4,
 "nbformat_minor": 2
}
